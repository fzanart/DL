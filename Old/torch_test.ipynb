{
 "cells": [
  {
   "cell_type": "code",
   "execution_count": 1,
   "metadata": {},
   "outputs": [],
   "source": [
    "import os\n",
    "os.environ[\"CUDA_VISIBLE_DEVICES\"]=\"1\"\n",
    "import torch\n",
    "import pandas as pd\n",
    "import numpy as np\n",
    "from torch.utils.data import Dataset, DataLoader\n",
    "from sklearn.model_selection import train_test_split\n",
    "from sentence_transformers import SentenceTransformer"
   ]
  },
  {
   "cell_type": "code",
   "execution_count": 40,
   "metadata": {},
   "outputs": [],
   "source": [
    "df = pd.read_csv('data/GHDomains.csv')\n",
    "\n",
    "# drop unreachable repos\n",
    "df = df[df['Status']==True].reset_index(drop=True)\n",
    "text = df['clean_description'] + df['clean_readme']\n",
    "\n",
    "# drop empty descp + readme text repos\n",
    "to_drop = []\n",
    "for i in text.index:\n",
    "    if not isinstance(text.loc[i], str):\n",
    "        to_drop.append(i)\n",
    "\n",
    "text = text.drop(to_drop).reset_index(drop=True)\n",
    "y = df['Domain'].drop(to_drop).reset_index(drop=True)"
   ]
  },
  {
   "cell_type": "code",
   "execution_count": 41,
   "metadata": {},
   "outputs": [],
   "source": [
    "# split data\n",
    "X_train, X_test, y_train, y_test = train_test_split(text, y, test_size=0.1, random_state=42, stratify=y)"
   ]
  },
  {
   "cell_type": "code",
   "execution_count": 42,
   "metadata": {},
   "outputs": [],
   "source": [
    "# encode text\n",
    "model = SentenceTransformer('all-MiniLM-L6-v2')\n",
    "\n",
    "embeddings = model.encode(X_train.to_numpy())\n",
    "np.save('data/X_train_embeddings',embeddings)\n",
    "\n",
    "embeddings = model.encode(X_test.to_numpy())\n",
    "np.save('data/X_test_embeddings', embeddings)"
   ]
  },
  {
   "cell_type": "code",
   "execution_count": 43,
   "metadata": {},
   "outputs": [],
   "source": [
    "y_train.to_csv('data/y_train.csv')\n",
    "y_test.to_csv('data/y_test.csv')"
   ]
  },
  {
   "cell_type": "code",
   "execution_count": 2,
   "metadata": {},
   "outputs": [],
   "source": [
    "class CustomDataset(Dataset):\n",
    "    def __init__(self, x_file, y_file):\n",
    "        self.x_data = np.load(x_file)\n",
    "        self.y_data = pd.read_csv(y_file,usecols=['Domain'])\n",
    "        self.encoded_labels = self.target_transform()\n",
    "\n",
    "    def __len__(self):\n",
    "        return len(self.y_data)\n",
    "\n",
    "    def __getitem__(self, idx):\n",
    "        x = torch.Tensor(self.x_data[idx])\n",
    "        y = torch.tensor(self.encoded_labels.iloc[idx])\n",
    "\n",
    "        return x, y\n",
    "    \n",
    "    def target_transform(self):\n",
    "        mapping = {}\n",
    "        labels = self.y_data['Domain'].unique()\n",
    "        for cat, num in zip(labels, range(len(labels))):\n",
    "            mapping[cat] = num\n",
    "\n",
    "        return self.y_data['Domain'].map(mapping)\n"
   ]
  },
  {
   "cell_type": "code",
   "execution_count": 3,
   "metadata": {},
   "outputs": [],
   "source": [
    "train_dataset = CustomDataset('data/X_train_embeddings.npy', 'data/y_train.csv')\n",
    "test_dataset = CustomDataset('data/X_test_embeddings.npy', 'data/y_test.csv')\n",
    "\n",
    "train_loader = DataLoader(train_dataset, batch_size=32, shuffle=True)\n",
    "test_loader = DataLoader(test_dataset, batch_size=32, shuffle=False)"
   ]
  },
  {
   "cell_type": "code",
   "execution_count": 46,
   "metadata": {},
   "outputs": [
    {
     "data": {
      "text/plain": [
       "torch.Size([384])"
      ]
     },
     "execution_count": 46,
     "metadata": {},
     "output_type": "execute_result"
    }
   ],
   "source": [
    "next(iter(train_loader))[0][0].shape"
   ]
  },
  {
   "cell_type": "code",
   "execution_count": 4,
   "metadata": {},
   "outputs": [
    {
     "name": "stdout",
     "output_type": "stream",
     "text": [
      "Epoch: 1, Loss: 1.443125, Train Accuracy: 50.73%\n",
      "Confusion matrix for training set:\n",
      "[[   0  181   73  125    0    0]\n",
      " [   0  906  149  213    0    0]\n",
      " [   0  350  252  259    0    0]\n",
      " [   0  151  133 1072    0    0]\n",
      " [   0  189   59  126    1    0]\n",
      " [   0  100   30   29    0    0]]\n",
      "Label: 0, Precision: 0.00%, Recall: 0.00%\n",
      "Label: 1, Precision: 48.27%, Recall: 71.45%\n",
      "Label: 2, Precision: 36.21%, Recall: 29.27%\n",
      "Label: 3, Precision: 58.77%, Recall: 79.06%\n",
      "Label: 4, Precision: 100.00%, Recall: 0.27%\n",
      "Label: 5, Precision: 0.00%, Recall: 0.00%\n",
      "Epoch: 2, Loss: 1.099865, Train Accuracy: 60.46%\n",
      "Confusion matrix for training set:\n",
      "[[   6  125  138  103    7    0]\n",
      " [   2  931  136  194    5    0]\n",
      " [   0  162  518  178    3    0]\n",
      " [   1  111   93 1148    3    0]\n",
      " [   1  136   73  109   56    0]\n",
      " [   0   52   84   22    1    0]]\n",
      "Label: 0, Precision: 60.00%, Recall: 1.58%\n",
      "Label: 1, Precision: 61.37%, Recall: 73.42%\n",
      "Label: 2, Precision: 49.71%, Recall: 60.16%\n",
      "Label: 3, Precision: 65.45%, Recall: 84.66%\n",
      "Label: 4, Precision: 74.67%, Recall: 14.93%\n",
      "Label: 5, Precision: 0.00%, Recall: 0.00%\n"
     ]
    },
    {
     "name": "stderr",
     "output_type": "stream",
     "text": [
      "/home/panchoz/miniconda3/envs/ghtopic/lib/python3.7/site-packages/sklearn/metrics/_classification.py:1318: UndefinedMetricWarning: Precision is ill-defined and being set to 0.0 in labels with no predicted samples. Use `zero_division` parameter to control this behavior.\n",
      "  _warn_prf(average, modifier, msg_start, len(result))\n",
      "/home/panchoz/miniconda3/envs/ghtopic/lib/python3.7/site-packages/sklearn/metrics/_classification.py:1318: UndefinedMetricWarning: Precision is ill-defined and being set to 0.0 in labels with no predicted samples. Use `zero_division` parameter to control this behavior.\n",
      "  _warn_prf(average, modifier, msg_start, len(result))\n"
     ]
    },
    {
     "name": "stdout",
     "output_type": "stream",
     "text": [
      "Epoch: 3, Loss: 0.969519, Train Accuracy: 64.96%\n",
      "Confusion matrix for training set:\n",
      "[[  54   90  128   85   22    0]\n",
      " [  11  937  130  169   21    0]\n",
      " [   7  141  562  143    8    0]\n",
      " [   7  111   89 1139   10    0]\n",
      " [   5   82   49   74  165    0]\n",
      " [   3   49   79   22    6    0]]\n",
      "Label: 0, Precision: 62.07%, Recall: 14.25%\n",
      "Label: 1, Precision: 66.45%, Recall: 73.90%\n",
      "Label: 2, Precision: 54.19%, Recall: 65.27%\n",
      "Label: 3, Precision: 69.79%, Recall: 84.00%\n",
      "Label: 4, Precision: 71.12%, Recall: 44.00%\n",
      "Label: 5, Precision: 0.00%, Recall: 0.00%\n",
      "Epoch: 4, Loss: 0.900274, Train Accuracy: 67.89%\n",
      "Confusion matrix for training set:\n",
      "[[ 110   68  111   70   20    0]\n",
      " [  23  960  105  157   22    1]\n",
      " [  30  118  574  123   15    1]\n",
      " [  17  113   75 1139   12    0]\n",
      " [  14   65   39   64  193    0]\n",
      " [   9   39   73   21    7   10]]\n",
      "Label: 0, Precision: 54.19%, Recall: 29.02%\n",
      "Label: 1, Precision: 70.43%, Recall: 75.71%\n",
      "Label: 2, Precision: 58.75%, Recall: 66.67%\n",
      "Label: 3, Precision: 72.36%, Recall: 84.00%\n",
      "Label: 4, Precision: 71.75%, Recall: 51.47%\n",
      "Label: 5, Precision: 83.33%, Recall: 6.29%\n"
     ]
    },
    {
     "name": "stderr",
     "output_type": "stream",
     "text": [
      "/home/panchoz/miniconda3/envs/ghtopic/lib/python3.7/site-packages/sklearn/metrics/_classification.py:1318: UndefinedMetricWarning: Precision is ill-defined and being set to 0.0 in labels with no predicted samples. Use `zero_division` parameter to control this behavior.\n",
      "  _warn_prf(average, modifier, msg_start, len(result))\n"
     ]
    },
    {
     "name": "stdout",
     "output_type": "stream",
     "text": [
      "Epoch: 5, Loss: 0.859674, Train Accuracy: 68.39%\n",
      "Confusion matrix for training set:\n",
      "[[ 121   66  104   61   24    3]\n",
      " [  21  975  100  151   18    3]\n",
      " [  37  129  558  121   12    4]\n",
      " [  19  118   74 1129   15    1]\n",
      " [  17   64   32   57  204    1]\n",
      " [  10   35   66   18    9   21]]\n",
      "Label: 0, Precision: 53.78%, Recall: 31.93%\n",
      "Label: 1, Precision: 70.30%, Recall: 76.89%\n",
      "Label: 2, Precision: 59.74%, Recall: 64.81%\n",
      "Label: 3, Precision: 73.45%, Recall: 83.26%\n",
      "Label: 4, Precision: 72.34%, Recall: 54.40%\n",
      "Label: 5, Precision: 63.64%, Recall: 13.21%\n",
      "Epoch: 6, Loss: 0.830860, Train Accuracy: 69.85%\n",
      "Confusion matrix for training set:\n",
      "[[ 140   53  106   59   18    3]\n",
      " [  26  987   95  137   16    7]\n",
      " [  35  116  577  112   15    6]\n",
      " [  19  125   68 1128   15    1]\n",
      " [  19   64   25   55  210    2]\n",
      " [   9   28   67   17    8   30]]\n",
      "Label: 0, Precision: 56.45%, Recall: 36.94%\n",
      "Label: 1, Precision: 71.89%, Recall: 77.84%\n",
      "Label: 2, Precision: 61.51%, Recall: 67.02%\n",
      "Label: 3, Precision: 74.80%, Recall: 83.19%\n",
      "Label: 4, Precision: 74.47%, Recall: 56.00%\n",
      "Label: 5, Precision: 61.22%, Recall: 18.87%\n",
      "Epoch: 7, Loss: 0.806948, Train Accuracy: 70.37%\n",
      "Confusion matrix for training set:\n",
      "[[ 150   52   96   58   19    4]\n",
      " [  31  966  101  139   23    8]\n",
      " [  42  118  577  105   13    6]\n",
      " [  22  111   69 1136   16    2]\n",
      " [  20   50   27   52  226    0]\n",
      " [   9   28   56   19    7   40]]\n",
      "Label: 0, Precision: 54.74%, Recall: 39.58%\n",
      "Label: 1, Precision: 72.91%, Recall: 76.18%\n",
      "Label: 2, Precision: 62.31%, Recall: 67.02%\n",
      "Label: 3, Precision: 75.28%, Recall: 83.78%\n",
      "Label: 4, Precision: 74.34%, Recall: 60.27%\n",
      "Label: 5, Precision: 66.67%, Recall: 25.16%\n",
      "Epoch: 8, Loss: 0.786743, Train Accuracy: 71.01%\n",
      "Confusion matrix for training set:\n",
      "[[ 155   51   92   57   21    3]\n",
      " [  28  978  101  135   16   10]\n",
      " [  40  120  583   99    9   10]\n",
      " [  21  110   72 1136   16    1]\n",
      " [  19   55   28   50  222    1]\n",
      " [   8   23   55   18    6   49]]\n",
      "Label: 0, Precision: 57.20%, Recall: 40.90%\n",
      "Label: 1, Precision: 73.15%, Recall: 77.13%\n",
      "Label: 2, Precision: 62.62%, Recall: 67.71%\n",
      "Label: 3, Precision: 75.99%, Recall: 83.78%\n",
      "Label: 4, Precision: 76.55%, Recall: 59.20%\n",
      "Label: 5, Precision: 66.22%, Recall: 30.82%\n",
      "Epoch: 9, Loss: 0.769816, Train Accuracy: 71.35%\n",
      "Confusion matrix for training set:\n",
      "[[ 172   45   86   52   21    3]\n",
      " [  31  970   97  143   16   11]\n",
      " [  44  114  581  100   10   12]\n",
      " [  24  112   70 1132   16    2]\n",
      " [  19   49   26   50  230    1]\n",
      " [   8   20   52   17    9   53]]\n",
      "Label: 0, Precision: 57.72%, Recall: 45.38%\n",
      "Label: 1, Precision: 74.05%, Recall: 76.50%\n",
      "Label: 2, Precision: 63.71%, Recall: 67.48%\n",
      "Label: 3, Precision: 75.77%, Recall: 83.48%\n",
      "Label: 4, Precision: 76.16%, Recall: 61.33%\n",
      "Label: 5, Precision: 64.63%, Recall: 33.33%\n",
      "Epoch: 10, Loss: 0.757434, Train Accuracy: 71.81%\n",
      "Confusion matrix for training set:\n",
      "[[ 175   45   86   52   18    3]\n",
      " [  25  980   98  135   19   11]\n",
      " [  42  109  588   98   10   14]\n",
      " [  19  111   78 1130   16    2]\n",
      " [  17   49   28   48  230    3]\n",
      " [   8   19   52   18    7   55]]\n",
      "Label: 0, Precision: 61.19%, Recall: 46.17%\n",
      "Label: 1, Precision: 74.64%, Recall: 77.29%\n",
      "Label: 2, Precision: 63.23%, Recall: 68.29%\n",
      "Label: 3, Precision: 76.30%, Recall: 83.33%\n",
      "Label: 4, Precision: 76.67%, Recall: 61.33%\n",
      "Label: 5, Precision: 62.50%, Recall: 34.59%\n"
     ]
    }
   ],
   "source": [
    "import torch\n",
    "import torch.nn as nn\n",
    "import torch.optim as optim\n",
    "from sklearn.metrics import confusion_matrix, precision_score, recall_score, accuracy_score\n",
    "\n",
    "class NeuralNetwork(nn.Module):\n",
    "    def __init__(self, input_size, hidden_size, output_size):\n",
    "        super(NeuralNetwork, self).__init__()\n",
    "        self.layer1 = nn.Linear(input_size, hidden_size)\n",
    "        self.activation = nn.ReLU()\n",
    "        self.layer2 = nn.Linear(hidden_size, output_size)\n",
    "        \n",
    "    def forward(self, x):\n",
    "        x = self.layer1(x)\n",
    "        x = self.activation(x)\n",
    "        x = self.layer2(x)\n",
    "        return x\n",
    "\n",
    "input_size = 384\n",
    "hidden_size = 96\n",
    "output_size = 6\n",
    "\n",
    "model = NeuralNetwork(input_size, hidden_size, output_size)\n",
    "\n",
    "criterion = nn.CrossEntropyLoss()\n",
    "optimizer = optim.Adam(model.parameters(), lr=0.001)\n",
    "\n",
    "for epoch in range(10):\n",
    "    running_loss = 0.0\n",
    "    y_true = []\n",
    "    y_pred = []\n",
    "    for inputs, labels in train_loader:\n",
    "        optimizer.zero_grad()\n",
    "        \n",
    "        outputs = model(inputs)\n",
    "        loss = criterion(outputs, labels)\n",
    "        loss.backward()\n",
    "        \n",
    "        optimizer.step()\n",
    "        running_loss += loss.item()\n",
    "        outputs = torch.nn.functional.softmax(outputs, dim=1)\n",
    "        _, predicted = torch.max(outputs.data, 1)\n",
    "        y_true.extend(labels.numpy())\n",
    "        y_pred.extend(predicted.numpy())\n",
    "    \n",
    "    train_acc = accuracy_score(y_true, y_pred)\n",
    "    cm_train = confusion_matrix(y_true, y_pred)\n",
    "    print('Epoch: {}, Loss: {:.6f}, Train Accuracy: {:.2f}%'.format(epoch+1, running_loss/len(train_loader), train_acc * 100))\n",
    "    print('Confusion matrix for training set:')\n",
    "    print(cm_train)\n",
    "\n",
    "    # compute precision and recall for each label\n",
    "    precision = precision_score(y_true, y_pred, average=None)\n",
    "    recall = recall_score(y_true, y_pred, average=None)\n",
    "    for i in range(6):\n",
    "        print('Label: {}, Precision: {:.2f}%, Recall: {:.2f}%'.format(i, precision[i]*100, recall[i]*100))\n"
   ]
  },
  {
   "cell_type": "code",
   "execution_count": 14,
   "metadata": {},
   "outputs": [
    {
     "name": "stdout",
     "output_type": "stream",
     "text": [
      "Accuracy on test set: 10.22%\n"
     ]
    }
   ],
   "source": [
    "correct = 0\n",
    "total = 0\n",
    "\n",
    "with torch.no_grad():\n",
    "    for inputs, labels in test_loader:\n",
    "        outputs = model(inputs)\n",
    "        outputs = torch.nn.functional.softmax(outputs, dim=1)\n",
    "        _, predicted = torch.max(outputs.data, 1)\n",
    "        total += labels.size(0)\n",
    "        correct += (predicted == labels).sum().item()\n",
    "\n",
    "accuracy = correct / total\n",
    "print('Accuracy on test set: {:.2f}%'.format(100 * accuracy))"
   ]
  },
  {
   "cell_type": "code",
   "execution_count": null,
   "metadata": {},
   "outputs": [],
   "source": []
  }
 ],
 "metadata": {
  "kernelspec": {
   "display_name": "ghtopic",
   "language": "python",
   "name": "python3"
  },
  "language_info": {
   "codemirror_mode": {
    "name": "ipython",
    "version": 3
   },
   "file_extension": ".py",
   "mimetype": "text/x-python",
   "name": "python",
   "nbconvert_exporter": "python",
   "pygments_lexer": "ipython3",
   "version": "3.7.16"
  },
  "orig_nbformat": 4
 },
 "nbformat": 4,
 "nbformat_minor": 2
}
