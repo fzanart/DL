{
 "cells": [
  {
   "cell_type": "code",
   "execution_count": 65,
   "metadata": {},
   "outputs": [],
   "source": [
    "import pandas as pd\n",
    "import numpy as np\n",
    "from sklearn.model_selection import train_test_split\n",
    "import matplotlib.pyplot as plt\n",
    "\n",
    "df = pd.read_csv('/home/panchoz/Documents/github/data/GHDomains.csv')\n",
    "\n",
    "# drop unreachable repos\n",
    "df = df[df['Status']==True].reset_index(drop=True)\n",
    "text = df['clean_description'] + df['clean_readme']\n",
    "\n",
    "# drop empty descp + readme text repos\n",
    "to_drop = []\n",
    "for i in text.index:\n",
    "    if not isinstance(text.loc[i], str):\n",
    "        to_drop.append(i)\n",
    "\n",
    "text = text.drop(to_drop).reset_index(drop=True)\n",
    "y = df['Domain'].drop(to_drop).reset_index(drop=True)\n",
    "\n",
    "# split data\n",
    "X_train, X_test, y_train, y_test = train_test_split(text, y, test_size=0.2, random_state=42, stratify=y)"
   ]
  },
  {
   "cell_type": "code",
   "execution_count": 66,
   "metadata": {},
   "outputs": [],
   "source": [
    "def word_count(text):\n",
    "    return len(text.split())"
   ]
  },
  {
   "cell_type": "code",
   "execution_count": 67,
   "metadata": {},
   "outputs": [],
   "source": [
    "def bigbird(word_count):\n",
    "    if word_count > 4096:\n",
    "        return False\n",
    "    else:\n",
    "        return True"
   ]
  },
  {
   "cell_type": "code",
   "execution_count": 68,
   "metadata": {},
   "outputs": [],
   "source": [
    "X_train = pd.DataFrame(X_train, columns=[\"Text\"])\n",
    "X_train['word_count'] = X_train['Text'].apply(word_count)\n",
    "X_train['bigbird'] = X_train['word_count'].apply(bigbird)\n",
    "X_train['label'] = y_train\n",
    "\n",
    "X_test = pd.DataFrame(X_test, columns=[\"Text\"])\n",
    "X_test['word_count'] = X_test['Text'].apply(word_count)\n",
    "X_test['bigbird'] = X_test['word_count'].apply(bigbird)\n",
    "X_test['label'] = y_test"
   ]
  },
  {
   "cell_type": "code",
   "execution_count": 69,
   "metadata": {},
   "outputs": [
    {
     "data": {
      "text/plain": [
       "count     3909.000000\n",
       "mean       846.242773\n",
       "std       1431.686197\n",
       "min          6.000000\n",
       "25%        236.000000\n",
       "50%        461.000000\n",
       "75%        913.000000\n",
       "max      22499.000000\n",
       "Name: word_count, dtype: float64"
      ]
     },
     "execution_count": 69,
     "metadata": {},
     "output_type": "execute_result"
    }
   ],
   "source": [
    "X_train['word_count'].describe()"
   ]
  },
  {
   "cell_type": "code",
   "execution_count": 70,
   "metadata": {},
   "outputs": [
    {
     "data": {
      "text/plain": [
       "count      978.000000\n",
       "mean       947.539877\n",
       "std       2541.246951\n",
       "min          4.000000\n",
       "25%        230.250000\n",
       "50%        451.000000\n",
       "75%        932.000000\n",
       "max      42063.000000\n",
       "Name: word_count, dtype: float64"
      ]
     },
     "execution_count": 70,
     "metadata": {},
     "output_type": "execute_result"
    }
   ],
   "source": [
    "X_test['word_count'].describe()"
   ]
  },
  {
   "cell_type": "code",
   "execution_count": 71,
   "metadata": {},
   "outputs": [
    {
     "data": {
      "text/plain": [
       "(array([3.162e+03, 4.620e+02, 1.500e+02, 6.200e+01, 2.600e+01, 1.000e+01,\n",
       "        4.000e+00, 1.000e+01, 3.000e+00, 2.000e+00, 2.000e+00, 4.000e+00,\n",
       "        1.000e+00, 5.000e+00, 2.000e+00, 0.000e+00, 1.000e+00, 2.000e+00,\n",
       "        0.000e+00, 1.000e+00]),\n",
       " array([6.000000e+00, 1.130650e+03, 2.255300e+03, 3.379950e+03,\n",
       "        4.504600e+03, 5.629250e+03, 6.753900e+03, 7.878550e+03,\n",
       "        9.003200e+03, 1.012785e+04, 1.125250e+04, 1.237715e+04,\n",
       "        1.350180e+04, 1.462645e+04, 1.575110e+04, 1.687575e+04,\n",
       "        1.800040e+04, 1.912505e+04, 2.024970e+04, 2.137435e+04,\n",
       "        2.249900e+04]),\n",
       " <BarContainer object of 20 artists>)"
      ]
     },
     "execution_count": 71,
     "metadata": {},
     "output_type": "execute_result"
    },
    {
     "data": {
      "image/png": "[encoded data removed]",
      "text/plain": [
       "<Figure size 432x288 with 1 Axes>"
      ]
     },
     "metadata": {
      "needs_background": "light"
     },
     "output_type": "display_data"
    }
   ],
   "source": [
    "plt.hist(X_train['word_count'], bins=20)"
   ]
  },
  {
   "cell_type": "code",
   "execution_count": 72,
   "metadata": {},
   "outputs": [
    {
     "data": {
      "text/plain": [
       "(array([906.,  49.,  11.,   5.,   0.,   0.,   1.,   1.,   1.,   0.,   0.,\n",
       "          0.,   1.,   0.,   0.,   0.,   1.,   1.,   0.,   1.]),\n",
       " array([4.000000e+00, 2.106950e+03, 4.209900e+03, 6.312850e+03,\n",
       "        8.415800e+03, 1.051875e+04, 1.262170e+04, 1.472465e+04,\n",
       "        1.682760e+04, 1.893055e+04, 2.103350e+04, 2.313645e+04,\n",
       "        2.523940e+04, 2.734235e+04, 2.944530e+04, 3.154825e+04,\n",
       "        3.365120e+04, 3.575415e+04, 3.785710e+04, 3.996005e+04,\n",
       "        4.206300e+04]),\n",
       " <BarContainer object of 20 artists>)"
      ]
     },
     "execution_count": 72,
     "metadata": {},
     "output_type": "execute_result"
    },
    {
     "data": {
      "image/png": "[encoded data removed]",
      "text/plain": [
       "<Figure size 432x288 with 1 Axes>"
      ]
     },
     "metadata": {
      "needs_background": "light"
     },
     "output_type": "display_data"
    }
   ],
   "source": [
    "plt.hist(X_test['word_count'], bins=20)"
   ]
  },
  {
   "cell_type": "code",
   "execution_count": 82,
   "metadata": {},
   "outputs": [
    {
     "data": {
      "text/plain": [
       "3909"
      ]
     },
     "execution_count": 82,
     "metadata": {},
     "output_type": "execute_result"
    }
   ],
   "source": [
    "X_train.value_counts(subset='label').sum()"
   ]
  },
  {
   "cell_type": "code",
   "execution_count": null,
   "metadata": {},
   "outputs": [],
   "source": [
    "X_train.value_counts(subset='label')"
   ]
  },
  {
   "cell_type": "code",
   "execution_count": 80,
   "metadata": {},
   "outputs": [
    {
     "data": {
      "text/plain": [
       "26"
      ]
     },
     "execution_count": 80,
     "metadata": {},
     "output_type": "execute_result"
    }
   ],
   "source": [
    "X_test.shape[0] - X_test[X_test['bigbird'] == True].shape[0]"
   ]
  },
  {
   "cell_type": "code",
   "execution_count": 81,
   "metadata": {},
   "outputs": [
    {
     "data": {
      "text/plain": [
       "label\n",
       "Web libraries and frameworks        302\n",
       "Non-web libraries and frameworks    282\n",
       "Software tools                      192\n",
       "Application software                 84\n",
       "Documentation                        83\n",
       "System software                      35\n",
       "dtype: int64"
      ]
     },
     "execution_count": 81,
     "metadata": {},
     "output_type": "execute_result"
    }
   ],
   "source": [
    "X_test.value_counts(subset='label')"
   ]
  },
  {
   "cell_type": "code",
   "execution_count": null,
   "metadata": {},
   "outputs": [],
   "source": []
  },
  {
   "cell_type": "code",
   "execution_count": 86,
   "metadata": {},
   "outputs": [
    {
     "data": {
      "text/html": [
       "<div>\n",
       "<style scoped>\n",
       "    .dataframe tbody tr th:only-of-type {\n",
       "        vertical-align: middle;\n",
       "    }\n",
       "\n",
       "    .dataframe tbody tr th {\n",
       "        vertical-align: top;\n",
       "    }\n",
       "\n",
       "    .dataframe thead th {\n",
       "        text-align: right;\n",
       "    }\n",
       "</style>\n",
       "<table border=\"1\" class=\"dataframe\">\n",
       "  <thead>\n",
       "    <tr style=\"text-align: right;\">\n",
       "      <th></th>\n",
       "      <th>Text</th>\n",
       "      <th>word_count</th>\n",
       "      <th>bigbird</th>\n",
       "      <th>label</th>\n",
       "    </tr>\n",
       "  </thead>\n",
       "  <tbody>\n",
       "    <tr>\n",
       "      <th>4272</th>\n",
       "      <td>[DEPRECATED]WARNING: THIS PROJECT IS DEPRECATE...</td>\n",
       "      <td>6276</td>\n",
       "      <td>False</td>\n",
       "      <td>Non-web libraries and frameworks</td>\n",
       "    </tr>\n",
       "    <tr>\n",
       "      <th>2373</th>\n",
       "      <td>[DEPRECATED]WARNING: THIS PROJECT IS DEPRECATE...</td>\n",
       "      <td>5650</td>\n",
       "      <td>False</td>\n",
       "      <td>Non-web libraries and frameworks</td>\n",
       "    </tr>\n",
       "    <tr>\n",
       "      <th>831</th>\n",
       "      <td>Disque is a distributed message brokerDisque, ...</td>\n",
       "      <td>11699</td>\n",
       "      <td>False</td>\n",
       "      <td>Non-web libraries and frameworks</td>\n",
       "    </tr>\n",
       "    <tr>\n",
       "      <th>410</th>\n",
       "      <td>Classy web-development dressed in a DSL (offic...</td>\n",
       "      <td>7049</td>\n",
       "      <td>False</td>\n",
       "      <td>Web libraries and frameworks</td>\n",
       "    </tr>\n",
       "    <tr>\n",
       "      <th>56</th>\n",
       "      <td>Command-line program to download videos from Y...</td>\n",
       "      <td>10713</td>\n",
       "      <td>False</td>\n",
       "      <td>Application software</td>\n",
       "    </tr>\n",
       "    <tr>\n",
       "      <th>...</th>\n",
       "      <td>...</td>\n",
       "      <td>...</td>\n",
       "      <td>...</td>\n",
       "      <td>...</td>\n",
       "    </tr>\n",
       "    <tr>\n",
       "      <th>808</th>\n",
       "      <td>Objective-C JSONJSONKit JSONKit is dual licens...</td>\n",
       "      <td>4494</td>\n",
       "      <td>False</td>\n",
       "      <td>Non-web libraries and frameworks</td>\n",
       "    </tr>\n",
       "    <tr>\n",
       "      <th>3173</th>\n",
       "      <td>Zen and the Art of the Objective-C Craftsmansh...</td>\n",
       "      <td>12856</td>\n",
       "      <td>False</td>\n",
       "      <td>Documentation</td>\n",
       "    </tr>\n",
       "    <tr>\n",
       "      <th>2449</th>\n",
       "      <td>An XCode project template to build universal f...</td>\n",
       "      <td>4175</td>\n",
       "      <td>False</td>\n",
       "      <td>Non-web libraries and frameworks</td>\n",
       "    </tr>\n",
       "    <tr>\n",
       "      <th>141</th>\n",
       "      <td>An open source iOS framework for GPU-based ima...</td>\n",
       "      <td>9173</td>\n",
       "      <td>False</td>\n",
       "      <td>Non-web libraries and frameworks</td>\n",
       "    </tr>\n",
       "    <tr>\n",
       "      <th>4234</th>\n",
       "      <td>Simple Dynamic Strings library for CSimple Dyn...</td>\n",
       "      <td>4474</td>\n",
       "      <td>False</td>\n",
       "      <td>Non-web libraries and frameworks</td>\n",
       "    </tr>\n",
       "  </tbody>\n",
       "</table>\n",
       "<p>88 rows × 4 columns</p>\n",
       "</div>"
      ],
      "text/plain": [
       "                                                   Text  word_count  bigbird  \\\n",
       "4272  [DEPRECATED]WARNING: THIS PROJECT IS DEPRECATE...        6276    False   \n",
       "2373  [DEPRECATED]WARNING: THIS PROJECT IS DEPRECATE...        5650    False   \n",
       "831   Disque is a distributed message brokerDisque, ...       11699    False   \n",
       "410   Classy web-development dressed in a DSL (offic...        7049    False   \n",
       "56    Command-line program to download videos from Y...       10713    False   \n",
       "...                                                 ...         ...      ...   \n",
       "808   Objective-C JSONJSONKit JSONKit is dual licens...        4494    False   \n",
       "3173  Zen and the Art of the Objective-C Craftsmansh...       12856    False   \n",
       "2449  An XCode project template to build universal f...        4175    False   \n",
       "141   An open source iOS framework for GPU-based ima...        9173    False   \n",
       "4234  Simple Dynamic Strings library for CSimple Dyn...        4474    False   \n",
       "\n",
       "                                 label  \n",
       "4272  Non-web libraries and frameworks  \n",
       "2373  Non-web libraries and frameworks  \n",
       "831   Non-web libraries and frameworks  \n",
       "410       Web libraries and frameworks  \n",
       "56                Application software  \n",
       "...                                ...  \n",
       "808   Non-web libraries and frameworks  \n",
       "3173                     Documentation  \n",
       "2449  Non-web libraries and frameworks  \n",
       "141   Non-web libraries and frameworks  \n",
       "4234  Non-web libraries and frameworks  \n",
       "\n",
       "[88 rows x 4 columns]"
      ]
     },
     "execution_count": 86,
     "metadata": {},
     "output_type": "execute_result"
    }
   ],
   "source": [
    "X_train[X_train['bigbird'] == False]"
   ]
  },
  {
   "cell_type": "code",
   "execution_count": 104,
   "metadata": {},
   "outputs": [],
   "source": [
    "with open('data/train_outliers.txt', 'w') as f:\n",
    "    for index, row in X_train[X_train['bigbird'] == False].iterrows():\n",
    "        f.write(' #'*20+ '\\n')\n",
    "        f.write(f' Repository: {df.iloc[index].Name}, index: {index}, word count: {row.word_count} \\n')\n",
    "        f.write(' #'*20+ '\\n' + '\\n')\n",
    "        f.write(row['Text'] + '\\n' + '\\n')"
   ]
  },
  {
   "cell_type": "code",
   "execution_count": 87,
   "metadata": {},
   "outputs": [
    {
     "data": {
      "text/html": [
       "<div>\n",
       "<style scoped>\n",
       "    .dataframe tbody tr th:only-of-type {\n",
       "        vertical-align: middle;\n",
       "    }\n",
       "\n",
       "    .dataframe tbody tr th {\n",
       "        vertical-align: top;\n",
       "    }\n",
       "\n",
       "    .dataframe thead th {\n",
       "        text-align: right;\n",
       "    }\n",
       "</style>\n",
       "<table border=\"1\" class=\"dataframe\">\n",
       "  <thead>\n",
       "    <tr style=\"text-align: right;\">\n",
       "      <th></th>\n",
       "      <th>Text</th>\n",
       "      <th>word_count</th>\n",
       "      <th>bigbird</th>\n",
       "      <th>label</th>\n",
       "    </tr>\n",
       "  </thead>\n",
       "  <tbody>\n",
       "    <tr>\n",
       "      <th>2780</th>\n",
       "      <td>:book: For those who wanna learn Bashbash-hand...</td>\n",
       "      <td>4634</td>\n",
       "      <td>False</td>\n",
       "      <td>Documentation</td>\n",
       "    </tr>\n",
       "    <tr>\n",
       "      <th>1299</th>\n",
       "      <td>Track changes to your rails modelsPaperTrail T...</td>\n",
       "      <td>4676</td>\n",
       "      <td>False</td>\n",
       "      <td>Non-web libraries and frameworks</td>\n",
       "    </tr>\n",
       "    <tr>\n",
       "      <th>130</th>\n",
       "      <td>Amazon Web Services a practical guideThe Open...</td>\n",
       "      <td>42063</td>\n",
       "      <td>False</td>\n",
       "      <td>Documentation</td>\n",
       "    </tr>\n",
       "    <tr>\n",
       "      <th>897</th>\n",
       "      <td>:mortar_board: All things Vim! Chinese | Japan...</td>\n",
       "      <td>14364</td>\n",
       "      <td>False</td>\n",
       "      <td>Software tools</td>\n",
       "    </tr>\n",
       "    <tr>\n",
       "      <th>4849</th>\n",
       "      <td>Infrared remote library for Arduino: send and ...</td>\n",
       "      <td>4128</td>\n",
       "      <td>False</td>\n",
       "      <td>Non-web libraries and frameworks</td>\n",
       "    </tr>\n",
       "    <tr>\n",
       "      <th>3407</th>\n",
       "      <td>Smart LESS CSS mixins library. lesshat Downloa...</td>\n",
       "      <td>7286</td>\n",
       "      <td>False</td>\n",
       "      <td>Web libraries and frameworks</td>\n",
       "    </tr>\n",
       "    <tr>\n",
       "      <th>1503</th>\n",
       "      <td>[DEPRECATED]WARNING: THIS PROJECT IS DEPRECATE...</td>\n",
       "      <td>5533</td>\n",
       "      <td>False</td>\n",
       "      <td>Non-web libraries and frameworks</td>\n",
       "    </tr>\n",
       "    <tr>\n",
       "      <th>1849</th>\n",
       "      <td>A utility for arming (creating) many bees (mic...</td>\n",
       "      <td>7344</td>\n",
       "      <td>False</td>\n",
       "      <td>Software tools</td>\n",
       "    </tr>\n",
       "    <tr>\n",
       "      <th>476</th>\n",
       "      <td>AngularJS service to handle Rest API Restful R...</td>\n",
       "      <td>6049</td>\n",
       "      <td>False</td>\n",
       "      <td>Web libraries and frameworks</td>\n",
       "    </tr>\n",
       "    <tr>\n",
       "      <th>2739</th>\n",
       "      <td>The SDK for Jetpac's iOS Deep Belief image rec...</td>\n",
       "      <td>4932</td>\n",
       "      <td>False</td>\n",
       "      <td>Non-web libraries and frameworks</td>\n",
       "    </tr>\n",
       "    <tr>\n",
       "      <th>96</th>\n",
       "      <td>A curated list of awesome Go frameworks, libra...</td>\n",
       "      <td>26024</td>\n",
       "      <td>False</td>\n",
       "      <td>Documentation</td>\n",
       "    </tr>\n",
       "    <tr>\n",
       "      <th>1446</th>\n",
       "      <td>A formatter for Python files==== YAPF ==== .. ...</td>\n",
       "      <td>4283</td>\n",
       "      <td>False</td>\n",
       "      <td>Non-web libraries and frameworks</td>\n",
       "    </tr>\n",
       "    <tr>\n",
       "      <th>98</th>\n",
       "      <td>A curated list of awesome iOS ecosystem, inclu...</td>\n",
       "      <td>34879</td>\n",
       "      <td>False</td>\n",
       "      <td>Documentation</td>\n",
       "    </tr>\n",
       "    <tr>\n",
       "      <th>868</th>\n",
       "      <td>A curated list of amazingly awesome Elixir and...</td>\n",
       "      <td>16951</td>\n",
       "      <td>False</td>\n",
       "      <td>Documentation</td>\n",
       "    </tr>\n",
       "    <tr>\n",
       "      <th>1263</th>\n",
       "      <td>Control and manage Android devices from your b...</td>\n",
       "      <td>4971</td>\n",
       "      <td>False</td>\n",
       "      <td>Software tools</td>\n",
       "    </tr>\n",
       "    <tr>\n",
       "      <th>1718</th>\n",
       "      <td>a simple and fast JSON logging module for node...</td>\n",
       "      <td>4102</td>\n",
       "      <td>False</td>\n",
       "      <td>Non-web libraries and frameworks</td>\n",
       "    </tr>\n",
       "    <tr>\n",
       "      <th>1389</th>\n",
       "      <td>JSON for Modern C++Design goals Sponsors Integ...</td>\n",
       "      <td>7812</td>\n",
       "      <td>False</td>\n",
       "      <td>Non-web libraries and frameworks</td>\n",
       "    </tr>\n",
       "    <tr>\n",
       "      <th>339</th>\n",
       "      <td>The repository for high quality TypeScript typ...</td>\n",
       "      <td>4831</td>\n",
       "      <td>False</td>\n",
       "      <td>Documentation</td>\n",
       "    </tr>\n",
       "    <tr>\n",
       "      <th>1021</th>\n",
       "      <td>Elegant iOS form builder in Swift Made with by...</td>\n",
       "      <td>4175</td>\n",
       "      <td>False</td>\n",
       "      <td>Non-web libraries and frameworks</td>\n",
       "    </tr>\n",
       "    <tr>\n",
       "      <th>1070</th>\n",
       "      <td>A minimal Ubuntu base image modified for Docke...</td>\n",
       "      <td>5230</td>\n",
       "      <td>False</td>\n",
       "      <td>System software</td>\n",
       "    </tr>\n",
       "    <tr>\n",
       "      <th>324</th>\n",
       "      <td>Awesome React Native components, news, tools, ...</td>\n",
       "      <td>15519</td>\n",
       "      <td>False</td>\n",
       "      <td>Documentation</td>\n",
       "    </tr>\n",
       "    <tr>\n",
       "      <th>4491</th>\n",
       "      <td>Neural networks module for RedisNeural Redis M...</td>\n",
       "      <td>5828</td>\n",
       "      <td>False</td>\n",
       "      <td>Non-web libraries and frameworks</td>\n",
       "    </tr>\n",
       "    <tr>\n",
       "      <th>1532</th>\n",
       "      <td>Embed the Power of Lua into NGINX HTTP servers...</td>\n",
       "      <td>36269</td>\n",
       "      <td>False</td>\n",
       "      <td>Software tools</td>\n",
       "    </tr>\n",
       "    <tr>\n",
       "      <th>1396</th>\n",
       "      <td>Slim is a template language whose goal is to r...</td>\n",
       "      <td>5250</td>\n",
       "      <td>False</td>\n",
       "      <td>Non-web libraries and frameworks</td>\n",
       "    </tr>\n",
       "    <tr>\n",
       "      <th>383</th>\n",
       "      <td>A simple HTML5, YouTube and Vimeo playerPlyr i...</td>\n",
       "      <td>6691</td>\n",
       "      <td>False</td>\n",
       "      <td>Web libraries and frameworks</td>\n",
       "    </tr>\n",
       "    <tr>\n",
       "      <th>33</th>\n",
       "      <td>A curated list of awesome Python frameworks, l...</td>\n",
       "      <td>8023</td>\n",
       "      <td>False</td>\n",
       "      <td>Documentation</td>\n",
       "    </tr>\n",
       "  </tbody>\n",
       "</table>\n",
       "</div>"
      ],
      "text/plain": [
       "                                                   Text  word_count  bigbird  \\\n",
       "2780  :book: For those who wanna learn Bashbash-hand...        4634    False   \n",
       "1299  Track changes to your rails modelsPaperTrail T...        4676    False   \n",
       "130    Amazon Web Services a practical guideThe Open...       42063    False   \n",
       "897   :mortar_board: All things Vim! Chinese | Japan...       14364    False   \n",
       "4849  Infrared remote library for Arduino: send and ...        4128    False   \n",
       "3407  Smart LESS CSS mixins library. lesshat Downloa...        7286    False   \n",
       "1503  [DEPRECATED]WARNING: THIS PROJECT IS DEPRECATE...        5533    False   \n",
       "1849  A utility for arming (creating) many bees (mic...        7344    False   \n",
       "476   AngularJS service to handle Rest API Restful R...        6049    False   \n",
       "2739  The SDK for Jetpac's iOS Deep Belief image rec...        4932    False   \n",
       "96    A curated list of awesome Go frameworks, libra...       26024    False   \n",
       "1446  A formatter for Python files==== YAPF ==== .. ...        4283    False   \n",
       "98    A curated list of awesome iOS ecosystem, inclu...       34879    False   \n",
       "868   A curated list of amazingly awesome Elixir and...       16951    False   \n",
       "1263  Control and manage Android devices from your b...        4971    False   \n",
       "1718  a simple and fast JSON logging module for node...        4102    False   \n",
       "1389  JSON for Modern C++Design goals Sponsors Integ...        7812    False   \n",
       "339   The repository for high quality TypeScript typ...        4831    False   \n",
       "1021  Elegant iOS form builder in Swift Made with by...        4175    False   \n",
       "1070  A minimal Ubuntu base image modified for Docke...        5230    False   \n",
       "324   Awesome React Native components, news, tools, ...       15519    False   \n",
       "4491  Neural networks module for RedisNeural Redis M...        5828    False   \n",
       "1532  Embed the Power of Lua into NGINX HTTP servers...       36269    False   \n",
       "1396  Slim is a template language whose goal is to r...        5250    False   \n",
       "383   A simple HTML5, YouTube and Vimeo playerPlyr i...        6691    False   \n",
       "33    A curated list of awesome Python frameworks, l...        8023    False   \n",
       "\n",
       "                                 label  \n",
       "2780                     Documentation  \n",
       "1299  Non-web libraries and frameworks  \n",
       "130                      Documentation  \n",
       "897                     Software tools  \n",
       "4849  Non-web libraries and frameworks  \n",
       "3407      Web libraries and frameworks  \n",
       "1503  Non-web libraries and frameworks  \n",
       "1849                    Software tools  \n",
       "476       Web libraries and frameworks  \n",
       "2739  Non-web libraries and frameworks  \n",
       "96                       Documentation  \n",
       "1446  Non-web libraries and frameworks  \n",
       "98                       Documentation  \n",
       "868                      Documentation  \n",
       "1263                    Software tools  \n",
       "1718  Non-web libraries and frameworks  \n",
       "1389  Non-web libraries and frameworks  \n",
       "339                      Documentation  \n",
       "1021  Non-web libraries and frameworks  \n",
       "1070                   System software  \n",
       "324                      Documentation  \n",
       "4491  Non-web libraries and frameworks  \n",
       "1532                    Software tools  \n",
       "1396  Non-web libraries and frameworks  \n",
       "383       Web libraries and frameworks  \n",
       "33                       Documentation  "
      ]
     },
     "execution_count": 87,
     "metadata": {},
     "output_type": "execute_result"
    }
   ],
   "source": [
    "X_test[X_test['bigbird'] == False]"
   ]
  },
  {
   "cell_type": "code",
   "execution_count": 105,
   "metadata": {},
   "outputs": [],
   "source": [
    "with open('data/test_outliers.txt', 'w') as f:\n",
    "    for index, row in X_test[X_test['bigbird'] == False].iterrows():\n",
    "        f.write(' #'*20+ '\\n')\n",
    "        f.write(f' Repository: {df.iloc[index].Name}, index: {index}, word count: {row.word_count} \\n')\n",
    "        f.write(' #'*20+ '\\n' + '\\n')\n",
    "        f.write(row['Text'] + '\\n' + '\\n')"
   ]
  },
  {
   "cell_type": "code",
   "execution_count": null,
   "metadata": {},
   "outputs": [],
   "source": []
  }
 ],
 "metadata": {
  "kernelspec": {
   "display_name": "ghtopic",
   "language": "python",
   "name": "python3"
  },
  "language_info": {
   "codemirror_mode": {
    "name": "ipython",
    "version": 3
   },
   "file_extension": ".py",
   "mimetype": "text/x-python",
   "name": "python",
   "nbconvert_exporter": "python",
   "pygments_lexer": "ipython3",
   "version": "3.7.16"
  },
  "orig_nbformat": 4
 },
 "nbformat": 4,
 "nbformat_minor": 2
}
